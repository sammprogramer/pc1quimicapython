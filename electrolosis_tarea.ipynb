{
  "nbformat": 4,
  "nbformat_minor": 0,
  "metadata": {
    "colab": {
      "provenance": [],
      "include_colab_link": true
    },
    "kernelspec": {
      "name": "python3",
      "display_name": "Python 3"
    },
    "language_info": {
      "name": "python"
    }
  },
  "cells": [
    {
      "cell_type": "markdown",
      "metadata": {
        "id": "view-in-github",
        "colab_type": "text"
      },
      "source": [
        "<a href=\"https://colab.research.google.com/github/sammprogramer/pc1quimicapython/blob/main/electrolosis_tarea.ipynb\" target=\"_parent\"><img src=\"https://colab.research.google.com/assets/colab-badge.svg\" alt=\"Open In Colab\"/></a>"
      ]
    },
    {
      "cell_type": "code",
      "source": [
        "def predecir_electrolisis(sustancia):\n",
        "    sustancia = sustancia.lower()\n",
        "\n",
        "    # Lista de tuplas: (nombre de la sustancia, ecuación química)\n",
        "    ecuaciones = [\n",
        "        (\"agua\", \"2 H₂O(l) -> 2 H₂(g) + O₂(g)\"),\n",
        "        (\"cloruro de sodio\", \"2 NaCl(l) -> 2 Na(s) + Cl₂(g)\"),\n",
        "        (\"ácido sulfúrico\", \"2 H₂SO₄(l) -> 2 H₂(g) + SO₂(g) + 2 H₂O(l)\"),\n",
        "        (\"peróxido de hidrógeno\", \"2 H₂O₂(l) -> 2 H₂O(l) + O₂(g)\"),\n",
        "        (\"hidróxido de sodio\", \"2 NaOH(l) -> H₂(g) + 2 Na(s) + O₂(g)\"),\n",
        "        (\"aluminio\", \"2 Al₂O₃(l) -> 4 Al(l) + 3 O₂(g)\"),\n",
        "        (\"cobre\", \"CuSO₄(aq) -> Cu(s) + SO₄²⁻(aq)\"),\n",
        "        (\"plata\", \"AgNO₃(aq) -> Ag(s) + NO₃⁻(aq)\"),\n",
        "        (\"níquel\", \"NiCl₂(aq) -> Ni(s) + 2 Cl⁻(aq)\"),\n",
        "        (\"estaño\", \"SnCl₄(aq) -> Sn(s) + 2 Cl₂(g)\"),\n",
        "        (\"zinc\", \"ZnSO₄(aq) -> Zn(s) + SO₄²⁻(aq)\"),\n",
        "        (\"hierro\", \"FeCl₃(aq) -> Fe(s) + 3 Cl⁻(aq)\"),\n",
        "        (\"cromo\", \"Cr₂O₇²⁻(aq) + 14 H⁺(aq) + 6 e⁻ -> 2 Cr³⁺(aq) + 7 H₂O(l)\"),\n",
        "        (\"magnesio\", \"MgCl₂(aq) -> Mg(s) + 2 Cl⁻(aq)\"),\n",
        "        (\"potasio\", \"KOH(l) -> H₂(g) + K⁺(aq) + OH⁻(aq)\"),\n",
        "        (\"litio\", \"LiCl(aq) -> Li(s) + Cl₂(g)\"),\n",
        "        (\"sodio\", \"NaCl(l) -> Na(s) + Cl₂(g)\"),\n",
        "        (\"fluoruro de litio\", \"2 LiF(l) -> 2 Li(s) + F₂(g)\"),\n",
        "        (\"óxido de aluminio\", \"Al₂O₃(l) -> 4 Al(s) + 3 O₂(g)\"),\n",
        "        (\"carbonato de sodio\", \"2 Na₂CO₃(l) -> 2 Na(s) + 2 CO₂(g) + O₂(g)\"),\n",
        "        (\"nitrato de potasio\", \"2 KNO₃(l) -> 2 K(s) + 2 NO₂(g) + O₂(g)\"),\n",
        "        (\"cloruro de calcio\", \"CaCl₂(aq) -> Ca(s) + Cl₂(g)\"),\n",
        "        (\"perclorato de sodio\", \"2 NaClO₄(l) -> 2 Na(s) + Cl₂(g) + 4 O₂(g)\"),\n",
        "        (\"fosfato de sodio\", \"2 Na₃PO₄(l) -> 2 Na(s) + P₂O₅(s) + 3 O₂(g)\"),\n",
        "        (\"sulfato de cobre\", \"CuSO₄(aq) -> Cu(s) + SO₄²⁻(aq)\"),\n",
        "        (\"acetaldehído\", \"C₂H₄O(l) -> C₂H₄(g) + O₂(g)\"),\n",
        "        (\"percloruro de hierro\", \"2 FeCl₃(aq) -> 2 Fe(s) + 3 Cl₂(g)\"),\n",
        "        (\"bromuro de potasio\", \"2 KBr(l) -> 2 K(s) + Br₂(g)\"),\n",
        "        (\"ácido clorhídrico\", \"2 HCl(aq) -> H₂(g) + Cl₂(g)\"),\n",
        "        (\"amoníaco\", \"2 NH₃(l) -> N₂(g) + 3 H₂(g)\"),\n",
        "        (\"dióxido de manganeso\", \"MnO₂(s) -> Mn(s) + O₂(g)\"),\n",
        "    ]\n",
        "\n",
        "    # Buscar la sustancia en la lista\n",
        "    for nombre, ecuacion in ecuaciones:\n",
        "        if nombre == sustancia:\n",
        "            print(f\"Ecuación balanceada de electrólisis de {sustancia}:\")\n",
        "            print(ecuacion)\n",
        "\n",
        "            # Dividir la ecuación en partes\n",
        "            partes_ecuacion = ecuacion.split(' -> ')\n",
        "\n",
        "            # Verificar si hay al menos tres elementos antes de intentar acceder a ellos\n",
        "            if len(partes_ecuacion) >= 3:\n",
        "                print(\"\\nProductos de electrólisis:\")\n",
        "                print(f\"En el cátodo (polo negativo): {partes_ecuacion[1]}\")\n",
        "                print(f\"En el ánodo (polo positivo): {partes_ecuacion[2]}\")\n",
        "            break\n",
        "    else:\n",
        "        print(\"Lo siento, no tengo información para la electrólisis de\", sustancia)\n",
        "\n",
        "# Solicitar al usuario que ingrese la sustancia\n",
        "sustancia_usuario = input(\"Ingrese la sustancia para la electrólisis: \")\n",
        "\n",
        "# Llamar a la función con la entrada del usuario\n",
        "predecir_electrolisis(sustancia_usuario)\n"
      ],
      "metadata": {
        "colab": {
          "base_uri": "https://localhost:8080/"
        },
        "id": "CXK5qwOWjNoV",
        "outputId": "3d6fe047-0733-4fa2-af2e-b2c390c6153b"
      },
      "execution_count": 16,
      "outputs": [
        {
          "output_type": "stream",
          "name": "stdout",
          "text": [
            "Ingrese la sustancia para la electrólisis: cloruro de sodio\n",
            "Ecuación balanceada de electrólisis de cloruro de sodio:\n",
            "2 NaCl(l) -> 2 Na(s) + Cl₂(g)\n"
          ]
        }
      ]
    },
    {
      "cell_type": "code",
      "source": [],
      "metadata": {
        "id": "iEQCiAN0j5gp"
      },
      "execution_count": 3,
      "outputs": []
    }
  ]
}