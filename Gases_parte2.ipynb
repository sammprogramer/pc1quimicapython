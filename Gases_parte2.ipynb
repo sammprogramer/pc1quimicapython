{
  "nbformat": 4,
  "nbformat_minor": 0,
  "metadata": {
    "colab": {
      "provenance": [],
      "toc_visible": true,
      "include_colab_link": true
    },
    "kernelspec": {
      "name": "python3",
      "display_name": "Python 3"
    },
    "language_info": {
      "name": "python"
    }
  },
  "cells": [
    {
      "cell_type": "markdown",
      "metadata": {
        "id": "view-in-github",
        "colab_type": "text"
      },
      "source": [
        "<a href=\"https://colab.research.google.com/github/sammprogramer/pc1quimicapython/blob/main/Gases_parte2.ipynb\" target=\"_parent\"><img src=\"https://colab.research.google.com/assets/colab-badge.svg\" alt=\"Open In Colab\"/></a>"
      ]
    },
    {
      "cell_type": "markdown",
      "source": [
        "# Gases (continuación)"
      ],
      "metadata": {
        "id": "Bdnr2qge-V3G"
      }
    },
    {
      "cell_type": "code",
      "execution_count": null,
      "metadata": {
        "id": "hvczf2TcbpiK"
      },
      "outputs": [],
      "source": [
        "import pandas as pd\n",
        "import numpy as np\n",
        "import matplotlib.pyplot as plt"
      ]
    },
    {
      "cell_type": "markdown",
      "source": [
        "Ejemplo 1: Graficar en barras el número de participaciones de los países en el mundial, según Wikipedia"
      ],
      "metadata": {
        "id": "bZ0OoatX02QI"
      }
    },
    {
      "cell_type": "code",
      "source": [
        "url = 'https://es.wikipedia.org/wiki/Anexo:Estad%C3%ADsticas_de_la_Copa_Mundial_de_F%C3%BAtbol'\n",
        "tablas = pd.read_html(url)"
      ],
      "metadata": {
        "id": "zOOQ2zUV0yj8",
        "colab": {
          "base_uri": "https://localhost:8080/",
          "height": 193
        },
        "outputId": "df570207-228c-47cc-d763-6a74b0e8a29e"
      },
      "execution_count": 2,
      "outputs": [
        {
          "output_type": "error",
          "ename": "NameError",
          "evalue": "ignored",
          "traceback": [
            "\u001b[0;31m---------------------------------------------------------------------------\u001b[0m",
            "\u001b[0;31mNameError\u001b[0m                                 Traceback (most recent call last)",
            "\u001b[0;32m<ipython-input-2-e7198e9fb4fd>\u001b[0m in \u001b[0;36m<cell line: 2>\u001b[0;34m()\u001b[0m\n\u001b[1;32m      1\u001b[0m \u001b[0murl\u001b[0m \u001b[0;34m=\u001b[0m \u001b[0;34m'https://es.wikipedia.org/wiki/Anexo:Estad%C3%ADsticas_de_la_Copa_Mundial_de_F%C3%BAtbol'\u001b[0m\u001b[0;34m\u001b[0m\u001b[0;34m\u001b[0m\u001b[0m\n\u001b[0;32m----> 2\u001b[0;31m \u001b[0mtablas\u001b[0m \u001b[0;34m=\u001b[0m \u001b[0mpd\u001b[0m\u001b[0;34m.\u001b[0m\u001b[0mread_html\u001b[0m\u001b[0;34m(\u001b[0m\u001b[0murl\u001b[0m\u001b[0;34m)\u001b[0m\u001b[0;34m\u001b[0m\u001b[0;34m\u001b[0m\u001b[0m\n\u001b[0m",
            "\u001b[0;31mNameError\u001b[0m: name 'pd' is not defined"
          ]
        }
      ]
    },
    {
      "cell_type": "code",
      "source": [
        "tablas[9]"
      ],
      "metadata": {
        "id": "Ersbw6zm0yhC",
        "colab": {
          "base_uri": "https://localhost:8080/",
          "height": 175
        },
        "outputId": "2dfed620-ad4e-4981-c8ef-f6bb38236026"
      },
      "execution_count": 1,
      "outputs": [
        {
          "output_type": "error",
          "ename": "NameError",
          "evalue": "ignored",
          "traceback": [
            "\u001b[0;31m---------------------------------------------------------------------------\u001b[0m",
            "\u001b[0;31mNameError\u001b[0m                                 Traceback (most recent call last)",
            "\u001b[0;32m<ipython-input-1-4fe2fa00dcf1>\u001b[0m in \u001b[0;36m<cell line: 1>\u001b[0;34m()\u001b[0m\n\u001b[0;32m----> 1\u001b[0;31m \u001b[0mtablas\u001b[0m\u001b[0;34m[\u001b[0m\u001b[0;36m9\u001b[0m\u001b[0;34m]\u001b[0m\u001b[0;34m\u001b[0m\u001b[0;34m\u001b[0m\u001b[0m\n\u001b[0m",
            "\u001b[0;31mNameError\u001b[0m: name 'tablas' is not defined"
          ]
        }
      ]
    },
    {
      "cell_type": "code",
      "source": [
        "plt.figure(figsize=(20,4))\n",
        "plt.xticks(rotation=90)\n",
        "plt.bar(tablas[9]['Selección'],tablas[9]['Apariciones'])"
      ],
      "metadata": {
        "id": "80fxPl3a1E8f"
      },
      "execution_count": null,
      "outputs": []
    },
    {
      "cell_type": "markdown",
      "source": [
        "Ejemplo 2: Hacer una gráfica de barras de las canciones más reproducidas en en Spotify"
      ],
      "metadata": {
        "id": "pnlCPQ3N01FE"
      }
    },
    {
      "cell_type": "code",
      "source": [
        "pagina = 'https://es.wikipedia.org/wiki/Anexo:Canciones_m%C3%A1s_reproducidas_en_Spotify'\n",
        "tablas = pd.read_html(pagina)"
      ],
      "metadata": {
        "id": "cF0o5AxE0yeP"
      },
      "execution_count": null,
      "outputs": []
    },
    {
      "cell_type": "code",
      "source": [
        "tablas[13]"
      ],
      "metadata": {
        "id": "yRy00shX0ybT"
      },
      "execution_count": null,
      "outputs": []
    },
    {
      "cell_type": "code",
      "source": [
        "plt.xticks(rotation=90)\n",
        "plt.bar(tablas[13]['Artista'],tablas[13]['Reproducciones (en millones)'])"
      ],
      "metadata": {
        "id": "dEXplT0c1kl2"
      },
      "execution_count": null,
      "outputs": []
    },
    {
      "cell_type": "markdown",
      "source": [
        "Ejemplo 3: Hacer un diagrama de barras del Potencial de calentamiento global (PCA) para un 20 años para los gases:\n",
        "\n",
        "Dióxido de carbono\n",
        "\n",
        "Metano\n",
        "\n",
        "Óxido nitroso\n",
        "\n",
        "Diclorodifluorometano\n",
        "\n",
        "Clorodifluorometano\n",
        "\n",
        "Tetrafluorometano\n",
        "\n",
        "Hexafluoretano\n",
        "\n",
        "Hexafluoruro de azufre\n",
        "\n",
        "Trifluoruro de nitrógeno"
      ],
      "metadata": {
        "id": "XOGbIr120y7d"
      }
    },
    {
      "cell_type": "code",
      "source": [
        "url = \"https://es.wikipedia.org/wiki/Gas_de_efecto_invernadero\"\n",
        "tabla = pd.read_html(url)"
      ],
      "metadata": {
        "id": "XVTziCJ-tynv"
      },
      "execution_count": null,
      "outputs": []
    },
    {
      "cell_type": "code",
      "source": [
        "tabla[0]"
      ],
      "metadata": {
        "id": "B-fCVptxuw6J"
      },
      "execution_count": null,
      "outputs": []
    },
    {
      "cell_type": "code",
      "source": [
        "tabla[1]"
      ],
      "metadata": {
        "id": "QWJNZTCHu5_-"
      },
      "execution_count": null,
      "outputs": []
    },
    {
      "cell_type": "code",
      "source": [
        "tabla[1][\"Nombre del gas\"]"
      ],
      "metadata": {
        "id": "5R8QUL43vNlZ"
      },
      "execution_count": null,
      "outputs": []
    },
    {
      "cell_type": "code",
      "source": [
        "tabla[1][\"Fórmula química\"]"
      ],
      "metadata": {
        "id": "e-i2Gs32vZEE"
      },
      "execution_count": null,
      "outputs": []
    },
    {
      "cell_type": "code",
      "source": [
        "tabla[1][\"Potencial de calentamiento global (PCA) para un tiempo determinado\"]"
      ],
      "metadata": {
        "id": "990EQKEPvjpI"
      },
      "execution_count": null,
      "outputs": []
    },
    {
      "cell_type": "code",
      "source": [
        "tabla[1][\"Potencial de calentamiento global (PCA) para un tiempo determinado\"][\"20 años\"]"
      ],
      "metadata": {
        "id": "7Hie2EmcvqlG"
      },
      "execution_count": null,
      "outputs": []
    },
    {
      "cell_type": "code",
      "source": [
        "y = pd.DataFrame([[1,84,264,10800,5280,4880,8210,17500,12800]])\n",
        "y = y.transpose()\n",
        "y"
      ],
      "metadata": {
        "id": "bQ_bt4BUyl5b"
      },
      "execution_count": null,
      "outputs": []
    },
    {
      "cell_type": "code",
      "source": [
        "FormulaQuimica = [\"CO2\",\"CH4\",\"N2O\",\"CCl2F2\",\"CHClF2\",\"CF4\",\"C2F6\",\"SF6\",\"NF3\"]\n",
        "PCA = [1,84,264,10800,5280,4880,8210,17500,12800]\n",
        "\n",
        "plt.bar(FormulaQuimica,PCA)\n",
        "plt.show()"
      ],
      "metadata": {
        "id": "dRxiB_YLu89Q"
      },
      "execution_count": null,
      "outputs": []
    },
    {
      "cell_type": "markdown",
      "source": [
        "Ejemplo 4: Representar la composición química usando un diagrama circular para:\n",
        "\n",
        "compuestos = ['carbono','hidrogeno','oxigeno','nitrogeno']\n",
        "\n",
        "numero = [3,14,2,1]"
      ],
      "metadata": {
        "id": "JlEpmZEt2Vrz"
      }
    },
    {
      "cell_type": "code",
      "source": [
        "compuestos = ['carbono','hidrogeno','oxigeno','nitrogeno']\n",
        "numero = [3,14,2,1]\n",
        "\n",
        "plt.pie(numero, labels = compuestos);"
      ],
      "metadata": {
        "id": "wlXNtBALv2F4"
      },
      "execution_count": null,
      "outputs": []
    },
    {
      "cell_type": "markdown",
      "source": [
        "Ejemplo 4:"
      ],
      "metadata": {
        "id": "BPGaWQ6A3lCp"
      }
    },
    {
      "cell_type": "code",
      "source": [
        "# instalamos:\n",
        "%%capture\n",
        "!pip install drawdata"
      ],
      "metadata": {
        "id": "cB6d9ZqN2nvy"
      },
      "execution_count": null,
      "outputs": []
    },
    {
      "cell_type": "code",
      "source": [
        "# Importamos\n",
        "from drawdata import draw_scatter, draw_histogram, draw_line\n",
        "\n",
        "# seleccionar A y graficar  la distribución\n",
        "draw_scatter()"
      ],
      "metadata": {
        "id": "49rvtYNs3pFI"
      },
      "execution_count": null,
      "outputs": []
    },
    {
      "cell_type": "code",
      "source": [
        "df = pd.read_csv(\"data.csv\")\n",
        "df"
      ],
      "metadata": {
        "id": "PGHNHa-g3tzM"
      },
      "execution_count": null,
      "outputs": []
    },
    {
      "cell_type": "markdown",
      "source": [
        "medidas de tendencia central"
      ],
      "metadata": {
        "id": "dU1bNN0R5lqF"
      }
    },
    {
      "cell_type": "code",
      "source": [
        "df[\"x\"].mean()"
      ],
      "metadata": {
        "id": "20yeQmaH5TRT"
      },
      "execution_count": null,
      "outputs": []
    },
    {
      "cell_type": "code",
      "source": [
        "df[\"x\"].median()"
      ],
      "metadata": {
        "id": "Fp913dns5WCy"
      },
      "execution_count": null,
      "outputs": []
    },
    {
      "cell_type": "markdown",
      "source": [
        "medidas de dispersion"
      ],
      "metadata": {
        "id": "IeJVxVU-5p5a"
      }
    },
    {
      "cell_type": "code",
      "source": [
        "df['x'].quantile([.25, .5, .75])"
      ],
      "metadata": {
        "id": "T9dOZ5ab5reP"
      },
      "execution_count": null,
      "outputs": []
    },
    {
      "cell_type": "code",
      "source": [
        "df['x'].max() - df['x'].min()"
      ],
      "metadata": {
        "id": "2AQkjroN53AU"
      },
      "execution_count": null,
      "outputs": []
    },
    {
      "cell_type": "code",
      "source": [
        "# desviación estándar\n",
        "round(df['x'].std(),2)"
      ],
      "metadata": {
        "id": "I199IyNT6CAA"
      },
      "execution_count": null,
      "outputs": []
    },
    {
      "cell_type": "code",
      "source": [
        "round(df.describe(),2)"
      ],
      "metadata": {
        "id": "xYuRHeg95GEA"
      },
      "execution_count": null,
      "outputs": []
    },
    {
      "cell_type": "code",
      "source": [
        "import pandas as pd\n",
        "import seaborn as sns\n",
        "import matplotlib.pyplot as plt\n",
        "\n",
        "# Crear un DataFrame de ejemplo con 10 filas\n",
        "data = {'Categoría': ['A', 'B', 'C', 'D', 'E', 'F', 'G', 'H', 'I', 'J'],\n",
        "        'Valor': [12, 18, 5, 22, 15, 10, 30, 8, 17, 14]}\n",
        "df = pd.DataFrame(data)\n",
        "\n",
        "# Crear un gráfico de barras utilizando Seaborn\n",
        "plt.figure(figsize=(8, 6))  # Ajusta el tamaño de la figura si es necesario\n",
        "sns.barplot(x='Categoría', y='Valor', data=df)\n",
        "\n",
        "# Agregar etiquetas y título\n",
        "plt.xlabel('Categoría')\n",
        "plt.ylabel('Valor')\n",
        "plt.title('Diagrama de Barras')\n",
        "\n",
        "# Mostrar el gráfico\n",
        "plt.show()"
      ],
      "metadata": {
        "id": "O9_EI_tL5IgP"
      },
      "execution_count": null,
      "outputs": []
    },
    {
      "cell_type": "code",
      "source": [
        "draw_histogram()"
      ],
      "metadata": {
        "id": "dFqhij9f4W1g"
      },
      "execution_count": null,
      "outputs": []
    },
    {
      "cell_type": "code",
      "source": [
        "df2 = pd.read_csv(\"data_2.csv\")\n",
        "df2"
      ],
      "metadata": {
        "id": "7JMCxp3N4kRS"
      },
      "execution_count": null,
      "outputs": []
    },
    {
      "cell_type": "markdown",
      "source": [
        "Actividad: Elaborar dataframes y comparar sus medidas de tendencia central para explicar las gráficas (Ref. Teoría cinética molecular de los gases)"
      ],
      "metadata": {
        "id": "055lusus8VtC"
      }
    },
    {
      "cell_type": "markdown",
      "source": [
        "![boltz_maxw.PNG](data:image/png;base64,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)"
      ],
      "metadata": {
        "id": "k1ZTohCG7r_7"
      }
    },
    {
      "cell_type": "code",
      "source": [],
      "metadata": {
        "id": "otj1tZh_49pw"
      },
      "execution_count": null,
      "outputs": []
    }
  ]
}